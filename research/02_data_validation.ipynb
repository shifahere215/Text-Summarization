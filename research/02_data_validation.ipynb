{
 "cells": [
  {
   "cell_type": "code",
   "execution_count": 1,
   "metadata": {},
   "outputs": [],
   "source": [
    "import os"
   ]
  },
  {
   "cell_type": "code",
   "execution_count": 2,
   "metadata": {},
   "outputs": [
    {
     "data": {
      "text/plain": [
       "'/Users/shifaafreensiddiqui/Desktop/Projects/NLP/Text-Summarization/research'"
      ]
     },
     "execution_count": 2,
     "metadata": {},
     "output_type": "execute_result"
    }
   ],
   "source": [
    "%pwd"
   ]
  },
  {
   "cell_type": "code",
   "execution_count": 3,
   "metadata": {},
   "outputs": [],
   "source": [
    "os.chdir(\"../\")"
   ]
  },
  {
   "cell_type": "code",
   "execution_count": 4,
   "metadata": {},
   "outputs": [
    {
     "data": {
      "text/plain": [
       "'/Users/shifaafreensiddiqui/Desktop/Projects/NLP/Text-Summarization'"
      ]
     },
     "execution_count": 4,
     "metadata": {},
     "output_type": "execute_result"
    }
   ],
   "source": [
    "%pwd"
   ]
  },
  {
   "cell_type": "code",
   "execution_count": 5,
   "metadata": {},
   "outputs": [],
   "source": [
    "from dataclasses import dataclass\n",
    "from pathlib import Path\n",
    "\n",
    "\n",
    "@dataclass(frozen=True)\n",
    "class DataValidationConfig:\n",
    "    root_dir: Path\n",
    "    STATUS_FILE: str\n",
    "    ALL_REQUIRED_FILES: list"
   ]
  },
  {
   "cell_type": "code",
   "execution_count": 6,
   "metadata": {},
   "outputs": [],
   "source": [
    "from textSummarizer.constants import *\n",
    "from textSummarizer.utils.common import read_yaml, create_directories"
   ]
  },
  {
   "cell_type": "code",
   "execution_count": 7,
   "metadata": {},
   "outputs": [],
   "source": [
    "from pathlib import Path\n",
    "\n",
    "class ConfigurationManager:\n",
    "    def __init__(\n",
    "        self,\n",
    "        config_filepath: Path = CONFIG_FILE_PATH,\n",
    "        params_filepath: Path = PARAMS_FILE_PATH\n",
    "    ):\n",
    "        self.config = read_yaml(config_filepath)\n",
    "        self.params = read_yaml(params_filepath)\n",
    "\n",
    "        create_directories([self.config.artifacts_root])  # Note: dictionary access now\n",
    "\n",
    "    def get_data_validation_config(self) -> DataValidationConfig:\n",
    "        config = self.config.data_validation\n",
    "\n",
    "        create_directories([config.root_dir])\n",
    "\n",
    "        data_validation_config = DataValidationConfig(\n",
    "            root_dir=config.root_dir,\n",
    "            STATUS_FILE=config.STATUS_FILE,\n",
    "            ALL_REQUIRED_FILES=config.ALL_REQUIRED_FILES,\n",
    "        )\n",
    "\n",
    "        return data_validation_config\n",
    "\n",
    "\n",
    "\n",
    "\n",
    "# class ConfigurationManager:\n",
    "#     def __init__(\n",
    "#         self,\n",
    "#         config_filepath: Path = CONFIG_FILE_PATH,\n",
    "#         params_filepath: Path = PARAMS_FILE_PATH\n",
    "#     ):\n",
    "#         self.config = read_yaml(config_filepath)\n",
    "#         self.params = read_yaml(params_filepath)\n",
    "\n",
    "#         create_directories([Path(self.config.artifacts_root)])\n",
    "\n",
    "#     def get_data_validation_config(self) -> DataValidationConfig:\n",
    "#         config = self.config.data_validation\n",
    "\n",
    "#         create_directories([Path(config[\"root_dir\"])])\n",
    "\n",
    "#         data_validation_config = DataValidationConfig(\n",
    "#             root_dir=Path(config[\"root_dir\"]),\n",
    "#             STATUS_FILE=Path(config[\"STATUS_FILE\"]),\n",
    "#             ALL_REQUIRED_FILES=config[\"ALL_REQUIRED_FILES\"]\n",
    "#         )\n",
    "\n",
    "#         return data_validation_config\n"
   ]
  },
  {
   "cell_type": "code",
   "execution_count": 8,
   "metadata": {},
   "outputs": [],
   "source": [
    "import os\n",
    "from textSummarizer.logging import logger"
   ]
  },
  {
   "cell_type": "code",
   "execution_count": 9,
   "metadata": {},
   "outputs": [],
   "source": [
    "class DataValidation:\n",
    "    def __init__(self, config: DataValidationConfig):\n",
    "        self.config = config\n",
    "\n",
    "    def validate_all_files_exist(self) -> bool:\n",
    "        logger.info(\"Starting file validation...\")\n",
    "        missing_files = []\n",
    "\n",
    "        for file_name in self.config.ALL_REQUIRED_FILES:\n",
    "            file_path = Path(\"artifacts/data_ingestion\") / file_name  # Adjust if path differs\n",
    "            if not file_path.exists():\n",
    "                missing_files.append(file_name)\n",
    "\n",
    "        status = len(missing_files) == 0\n",
    "\n",
    "        with open(self.config.STATUS_FILE, \"w\") as f:\n",
    "            if status:\n",
    "                f.write(\"Validation passed ✅\\n\")\n",
    "                logger.info(\"All files found. Validation passed.\")\n",
    "            else:\n",
    "                f.write(f\"Validation failed ❌\\nMissing: {missing_files}\")\n",
    "                logger.error(f\"Missing files: {missing_files}\")\n",
    "\n",
    "        return status\n"
   ]
  },
  {
   "cell_type": "code",
   "execution_count": 10,
   "metadata": {},
   "outputs": [
    {
     "name": "stdout",
     "output_type": "stream",
     "text": [
      "[2025-06-06 03:12:36,907: INFO: common: yaml file: config/config.yaml loaded successfully]\n",
      "[2025-06-06 03:12:36,909: INFO: common: yaml file: params.yaml loaded successfully]\n",
      "[2025-06-06 03:12:36,910: INFO: common: created directory at: artifacts]\n",
      "[2025-06-06 03:12:36,910: INFO: common: created directory at: artifacts/data_validation]\n",
      "[2025-06-06 03:12:36,911: INFO: 1001195379: Starting file validation...]\n",
      "[2025-06-06 03:12:36,912: INFO: 1001195379: All files found. Validation passed.]\n"
     ]
    }
   ],
   "source": [
    "try:\n",
    "    config = ConfigurationManager()\n",
    "    data_validation_config = config.get_data_validation_config()\n",
    "    data_validation = DataValidation(config=data_validation_config)\n",
    "    data_validation.validate_all_files_exist()\n",
    "except Exception as e:\n",
    "    raise e\n"
   ]
  }
 ],
 "metadata": {
  "kernelspec": {
   "display_name": "venv",
   "language": "python",
   "name": "python3"
  },
  "language_info": {
   "codemirror_mode": {
    "name": "ipython",
    "version": 3
   },
   "file_extension": ".py",
   "mimetype": "text/x-python",
   "name": "python",
   "nbconvert_exporter": "python",
   "pygments_lexer": "ipython3",
   "version": "3.9.6"
  }
 },
 "nbformat": 4,
 "nbformat_minor": 2
}
