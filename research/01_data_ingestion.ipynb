{
 "cells": [
  {
   "cell_type": "code",
   "execution_count": 1,
   "metadata": {},
   "outputs": [],
   "source": [
    "import os"
   ]
  },
  {
   "cell_type": "code",
   "execution_count": 2,
   "metadata": {},
   "outputs": [
    {
     "data": {
      "text/plain": [
       "'/Users/shifaafreensiddiqui/Desktop/Projects/NLP/Text-Summarization/research'"
      ]
     },
     "execution_count": 2,
     "metadata": {},
     "output_type": "execute_result"
    }
   ],
   "source": [
    "%pwd"
   ]
  },
  {
   "cell_type": "code",
   "execution_count": 3,
   "metadata": {},
   "outputs": [],
   "source": [
    "os.chdir(\"../\")"
   ]
  },
  {
   "cell_type": "code",
   "execution_count": 4,
   "metadata": {},
   "outputs": [
    {
     "data": {
      "text/plain": [
       "'/Users/shifaafreensiddiqui/Desktop/Projects/NLP/Text-Summarization'"
      ]
     },
     "execution_count": 4,
     "metadata": {},
     "output_type": "execute_result"
    }
   ],
   "source": [
    "%pwd"
   ]
  },
  {
   "cell_type": "code",
   "execution_count": 5,
   "metadata": {},
   "outputs": [],
   "source": [
    "from dataclasses import dataclass\n",
    "from pathlib import Path\n",
    "from typing import Dict\n",
    "\n",
    "@dataclass(frozen=True)\n",
    "class DataIngestionConfig:\n",
    "    root_dir: Path\n",
    "    dataset_name: str\n",
    "    splits: Dict[str, str]\n",
    "    save_local: bool = False  # Optional: for saving locally\n"
   ]
  },
  {
   "cell_type": "code",
   "execution_count": 6,
   "metadata": {},
   "outputs": [],
   "source": [
    "from textSummarizer.constants import *\n",
    "from textSummarizer.utils.common import read_yaml, create_directories"
   ]
  },
  {
   "cell_type": "code",
   "execution_count": 18,
   "metadata": {},
   "outputs": [],
   "source": [
    "from pathlib import Path\n",
    "\n",
    "class ConfigurationManager:\n",
    "    def __init__(\n",
    "        self,\n",
    "        config_filepath: Path = CONFIG_FILE_PATH,\n",
    "        params_filepath: Path = PARAMS_FILE_PATH\n",
    "    ):\n",
    "        self.config = read_yaml(config_filepath)\n",
    "        self.params = read_yaml(params_filepath)\n",
    "\n",
    "        create_directories([self.config.artifacts_root])  # Note: dictionary access now\n",
    "\n",
    "    def get_data_ingestion_config(self) -> DataIngestionConfig:\n",
    "        config = self.config.data_ingestion\n",
    "\n",
    "        create_directories([config[\"root_dir\"]])\n",
    "\n",
    "        data_ingestion_config = DataIngestionConfig(\n",
    "            # root_dir=config.root_dir,\n",
    "            # dataset_name=config.dataset_name,\n",
    "            # splits=config.splits,\n",
    "            # save_local=config.get(\"save_local\", False)\n",
    "            \n",
    "            root_dir=Path(config[\"root_dir\"]),  # ✅ this line is crucial\n",
    "            dataset_name=config[\"dataset_name\"],\n",
    "            splits=config[\"splits\"],\n",
    "            save_local=config.get(\"save_local\", False)\n",
    "        )\n",
    "        \n",
    "    \n",
    "\n",
    "\n",
    "        return data_ingestion_config\n"
   ]
  },
  {
   "cell_type": "code",
   "execution_count": 19,
   "metadata": {},
   "outputs": [],
   "source": [
    "import os\n",
    "from datasets import load_dataset\n",
    "from pathlib import Path\n",
    "from textSummarizer.logging import logger\n",
    "from textSummarizer.utils.common import get_size\n",
    "# from textSummarizer.utils.common import save_json   # a helper to save datasets"
   ]
  },
  {
   "cell_type": "code",
   "execution_count": 20,
   "metadata": {},
   "outputs": [],
   "source": [
    "class DataIngestion:\n",
    "    def __init__(self, config: DataIngestionConfig):\n",
    "        self.config = config\n",
    "\n",
    "    def fetch_and_optionally_save(self):\n",
    "        logger.info(f\"Loading dataset: {self.config.dataset_name}\")\n",
    "        \n",
    "        for split_name, hf_split in self.config.splits.items():\n",
    "            logger.info(f\"Loading {split_name} split...\")\n",
    "            dataset_split = load_dataset(self.config.dataset_name, split=hf_split)\n",
    "\n",
    "            if self.config.save_local:\n",
    "                save_path = self.config.root_dir / f\"{split_name}.json\"\n",
    "                logger.info(f\"Saving {split_name} to {save_path}\")\n",
    "                dataset_split.to_json(str(save_path), orient=\"records\", lines=True)\n",
    "\n",
    "        logger.info(\"Data ingestion complete.\")\n"
   ]
  },
  {
   "cell_type": "code",
   "execution_count": 21,
   "metadata": {},
   "outputs": [
    {
     "name": "stdout",
     "output_type": "stream",
     "text": [
      "[2025-06-04 00:41:03,432: INFO: common: yaml file: config/config.yaml loaded successfully]\n",
      "[2025-06-04 00:41:03,434: INFO: common: yaml file: params.yaml loaded successfully]\n",
      "[2025-06-04 00:41:03,436: INFO: common: created directory at: artifacts]\n",
      "[2025-06-04 00:41:03,436: INFO: common: created directory at: artifacts/data_ingestion]\n",
      "[2025-06-04 00:41:03,437: INFO: 3364594946: Loading dataset: knkarthick/samsum]\n",
      "[2025-06-04 00:41:03,438: INFO: 3364594946: Loading train split...]\n",
      "[2025-06-04 00:41:06,189: INFO: 3364594946: Saving train to artifacts/data_ingestion/train.json]\n"
     ]
    },
    {
     "name": "stderr",
     "output_type": "stream",
     "text": [
      "Creating json from Arrow format: 100%|██████████| 15/15 [00:00<00:00, 228.75ba/s]"
     ]
    },
    {
     "name": "stdout",
     "output_type": "stream",
     "text": [
      "[2025-06-04 00:41:06,264: INFO: 3364594946: Loading validation split...]\n"
     ]
    },
    {
     "name": "stderr",
     "output_type": "stream",
     "text": [
      "\n"
     ]
    },
    {
     "name": "stdout",
     "output_type": "stream",
     "text": [
      "[2025-06-04 00:41:08,845: INFO: 3364594946: Saving validation to artifacts/data_ingestion/validation.json]\n"
     ]
    },
    {
     "name": "stderr",
     "output_type": "stream",
     "text": [
      "Creating json from Arrow format: 100%|██████████| 1/1 [00:00<00:00, 183.31ba/s]"
     ]
    },
    {
     "name": "stdout",
     "output_type": "stream",
     "text": [
      "[2025-06-04 00:41:08,853: INFO: 3364594946: Loading test split...]\n"
     ]
    },
    {
     "name": "stderr",
     "output_type": "stream",
     "text": [
      "\n"
     ]
    },
    {
     "name": "stdout",
     "output_type": "stream",
     "text": [
      "[2025-06-04 00:41:10,666: INFO: 3364594946: Saving test to artifacts/data_ingestion/test.json]\n"
     ]
    },
    {
     "name": "stderr",
     "output_type": "stream",
     "text": [
      "Creating json from Arrow format: 100%|██████████| 1/1 [00:00<00:00, 144.99ba/s]"
     ]
    },
    {
     "name": "stdout",
     "output_type": "stream",
     "text": [
      "[2025-06-04 00:41:10,677: INFO: 3364594946: Data ingestion complete.]\n"
     ]
    },
    {
     "name": "stderr",
     "output_type": "stream",
     "text": [
      "\n"
     ]
    }
   ],
   "source": [
    "try:\n",
    "    config = ConfigurationManager()\n",
    "    data_ingestion_config = config.get_data_ingestion_config()\n",
    "    data_ingestion = DataIngestion(config=data_ingestion_config)\n",
    "    data_ingestion.fetch_and_optionally_save()\n",
    "except Exception as e:\n",
    "    raise e\n"
   ]
  }
 ],
 "metadata": {
  "kernelspec": {
   "display_name": "venv",
   "language": "python",
   "name": "python3"
  },
  "language_info": {
   "codemirror_mode": {
    "name": "ipython",
    "version": 3
   },
   "file_extension": ".py",
   "mimetype": "text/x-python",
   "name": "python",
   "nbconvert_exporter": "python",
   "pygments_lexer": "ipython3",
   "version": "3.9.6"
  }
 },
 "nbformat": 4,
 "nbformat_minor": 2
}
