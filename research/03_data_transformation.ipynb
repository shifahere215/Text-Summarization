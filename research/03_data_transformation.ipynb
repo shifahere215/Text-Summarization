{
 "cells": [
  {
   "cell_type": "code",
   "execution_count": 1,
   "metadata": {},
   "outputs": [],
   "source": [
    "import os"
   ]
  },
  {
   "cell_type": "code",
   "execution_count": 2,
   "metadata": {},
   "outputs": [
    {
     "data": {
      "text/plain": [
       "'/Users/shifaafreensiddiqui/Desktop/Projects/NLP/Text-Summarization/research'"
      ]
     },
     "execution_count": 2,
     "metadata": {},
     "output_type": "execute_result"
    }
   ],
   "source": [
    "%pwd"
   ]
  },
  {
   "cell_type": "code",
   "execution_count": 3,
   "metadata": {},
   "outputs": [],
   "source": [
    "os.chdir(\"../\")"
   ]
  },
  {
   "cell_type": "code",
   "execution_count": 4,
   "metadata": {},
   "outputs": [
    {
     "data": {
      "text/plain": [
       "'/Users/shifaafreensiddiqui/Desktop/Projects/NLP/Text-Summarization'"
      ]
     },
     "execution_count": 4,
     "metadata": {},
     "output_type": "execute_result"
    }
   ],
   "source": [
    "%pwd"
   ]
  },
  {
   "cell_type": "code",
   "execution_count": 5,
   "metadata": {},
   "outputs": [],
   "source": [
    "from dataclasses import dataclass\n",
    "from pathlib import Path\n",
    "\n",
    "\n",
    "@dataclass(frozen=True)\n",
    "class DataTransformationConfig:\n",
    "    root_dir: Path\n",
    "    data_path: Path\n",
    "    tokenizer_name: Path"
   ]
  },
  {
   "cell_type": "code",
   "execution_count": 6,
   "metadata": {},
   "outputs": [],
   "source": [
    "from textSummarizer.constants import *\n",
    "from textSummarizer.utils.common import read_yaml, create_directories"
   ]
  },
  {
   "cell_type": "code",
   "execution_count": 7,
   "metadata": {},
   "outputs": [],
   "source": [
    "class ConfigurationManager:\n",
    "    def __init__(\n",
    "        self,\n",
    "        config_filepath = CONFIG_FILE_PATH,\n",
    "        params_filepath = PARAMS_FILE_PATH):\n",
    "\n",
    "        self.config = read_yaml(config_filepath)\n",
    "        self.params = read_yaml(params_filepath)\n",
    "\n",
    "        create_directories([self.config.artifacts_root])\n",
    "\n",
    "\n",
    "    \n",
    "    def get_data_transformation_config(self) -> DataTransformationConfig:\n",
    "        config = self.config.data_transformation\n",
    "\n",
    "        create_directories([config.root_dir])\n",
    "\n",
    "        data_transformation_config = DataTransformationConfig(\n",
    "            root_dir=config.root_dir,\n",
    "            data_path=config.data_path,\n",
    "            tokenizer_name = config.tokenizer_name\n",
    "        )\n",
    "\n",
    "        return data_transformation_config"
   ]
  },
  {
   "cell_type": "code",
   "execution_count": 11,
   "metadata": {},
   "outputs": [],
   "source": [
    "import os\n",
    "import json\n",
    "from datasets import Dataset\n",
    "from transformers import AutoTokenizer\n",
    "from textSummarizer.logging import logger\n"
   ]
  },
  {
   "cell_type": "code",
   "execution_count": null,
   "metadata": {},
   "outputs": [],
   "source": [
    "# class DataTransformation:\n",
    "#     def __init__(self, config: DataTransformationConfig):\n",
    "#         self.config = config\n",
    "#         self.tokenizer = AutoTokenizer.from_pretrained(config.tokenizer_name)\n",
    "\n",
    "\n",
    "#     def convert_examples_to_features(self, example_batch):\n",
    "#         inputs = self.tokenizer(\n",
    "#             example_batch['dialogue'], \n",
    "#             max_length=1024, \n",
    "#             truncation=True, \n",
    "#             padding=\"max_length\"\n",
    "#         )\n",
    "        \n",
    "#         targets = self.tokenizer(\n",
    "#             text_target=example_batch['summary'], \n",
    "#             max_length=128, \n",
    "#             truncation=True, \n",
    "#             padding=\"max_length\"\n",
    "#         )\n",
    "        \n",
    "#         return {\n",
    "#             'input_ids': inputs['input_ids'],\n",
    "#             'attention_mask': inputs['attention_mask'],\n",
    "#             'labels': targets['input_ids']\n",
    "#         }\n",
    "\n",
    "#     def convert(self):\n",
    "#         splits = [\"train\", \"validation\", \"test\"]\n",
    "\n",
    "#         for split in splits:\n",
    "#             path = os.path.join(self.config.data_path, f\"{split}.json\")\n",
    "#             logger.info(f\"Loading {split} data from {path}\")\n",
    "            \n",
    "#             with open(path, \"r\") as f:\n",
    "#                 raw_data = [json.loads(line) for line in f.readlines()]\n",
    "            \n",
    "#             dataset = Dataset.from_list(raw_data)\n",
    "#             transformed_dataset = dataset.map(self.convert_examples_to_features, batched=True)\n",
    "\n",
    "#             save_path = os.path.join(self.config.root_dir, f\"{split}_transformed\")\n",
    "#             transformed_dataset.save_to_disk(save_path)\n",
    "#             logger.info(f\"Saved transformed {split} data to {save_path}\")\n",
    "\n",
    "\n",
    "import os\n",
    "import json\n",
    "from datasets import Dataset\n",
    "from transformers import AutoTokenizer\n",
    "from textSummarizer.logging import logger\n",
    "\n",
    "\n",
    "class DataTransformation:\n",
    "    def __init__(self, config):\n",
    "        self.config = config\n",
    "        self.tokenizer = AutoTokenizer.from_pretrained(self.config.tokenizer_name)\n",
    "\n",
    "    # def convert_examples_to_features(self, example_batch):\n",
    "    #     input_encodings = self.tokenizer(\n",
    "    #         example_batch['dialogue'],\n",
    "    #         max_length=1024,\n",
    "    #         truncation=True\n",
    "    #     )\n",
    "\n",
    "    #     target_encodings = self.tokenizer(\n",
    "    #         example_batch['summary'],\n",
    "    #         max_length=128,\n",
    "    #         truncation=True,\n",
    "    #         text_target=example_batch['summary']\n",
    "    #     )\n",
    "\n",
    "    #     return {\n",
    "    #         'input_ids': input_encodings['input_ids'],\n",
    "    #         'attention_mask': input_encodings['attention_mask'],\n",
    "    #         'labels': target_encodings['input_ids']\n",
    "    #     }\n",
    "\n",
    "    # def convert(self):\n",
    "    #     for split in ['train', 'test', 'validation']:\n",
    "    #         path = os.path.join(\"artifacts\", \"data_ingestion\", f\"{split}.json\")\n",
    "    #         logger.info(f\"Loading {split} data from {path}\")\n",
    "\n",
    "    #         with open(path, \"r\") as f:\n",
    "    #             raw_data = [json.loads(line) for line in f.readlines()]\n",
    "\n",
    "    #         dataset = Dataset.from_list(raw_data)\n",
    "    #         transformed_dataset = dataset.map(self.convert_examples_to_features, batched=True)\n",
    "\n",
    "    #         save_path = os.path.join(self.config.root_dir, f\"{split}_transformed\")\n",
    "    #         transformed_dataset.save_to_disk(save_path)\n",
    "\n",
    "\n",
    "\n",
    "\n",
    "    def convert_examples_to_features(self, example_batch):\n",
    "        dialogues = example_batch.get(\"dialogue\", [])\n",
    "        summaries = example_batch.get(\"summary\", [])\n",
    "\n",
    "        for d, s in zip(dialogues, summaries):\n",
    "            if not isinstance(d, str) or not isinstance(s, str):\n",
    "                print(\"Invalid input:\", d, \"|\", s)\n",
    "\n",
    "        # Filter out non-string values\n",
    "        def clean(texts):\n",
    "            return [\n",
    "                str(t) if isinstance(t, (str, int, float)) else \"\"\n",
    "                for t in texts\n",
    "            ]\n",
    "\n",
    "        dialogues = clean(dialogues)\n",
    "        summaries = clean(summaries)\n",
    "\n",
    "        inputs = self.tokenizer(\n",
    "            dialogues,\n",
    "            max_length=1024,\n",
    "            truncation=True,\n",
    "            padding=\"max_length\"\n",
    "        )\n",
    "\n",
    "        targets = self.tokenizer(\n",
    "            summaries,\n",
    "            max_length=128,\n",
    "            truncation=True,\n",
    "            padding=\"max_length\"\n",
    "        )\n",
    "\n",
    "        return {\n",
    "            \"input_ids\": inputs[\"input_ids\"],\n",
    "            \"attention_mask\": inputs[\"attention_mask\"],\n",
    "            \"labels\": targets[\"input_ids\"]\n",
    "        }\n",
    "\n",
    "    \n",
    "\n",
    "\n",
    "\n",
    "    def convert(self):\n",
    "        for split in ['train', 'test', 'validation']:\n",
    "            path = os.path.join(\"artifacts\", \"data_ingestion\", f\"{split}.json\")\n",
    "            logger.info(f\"Loading {split} data from {path}\")\n",
    "\n",
    "            with open(path, \"r\") as f:\n",
    "                raw_data = [json.loads(line) for line in f.readlines()]\n",
    "\n",
    "            dataset = Dataset.from_list(raw_data)\n",
    "            transformed_dataset = dataset.map(self.convert_examples_to_features, batched=True)\n",
    "\n",
    "            save_path = os.path.join(self.config.root_dir, f\"{split}_transformed\")\n",
    "            transformed_dataset.save_to_disk(save_path)\n",
    "    "
   ]
  },
  {
   "cell_type": "code",
   "execution_count": 25,
   "metadata": {},
   "outputs": [
    {
     "name": "stdout",
     "output_type": "stream",
     "text": [
      "[2025-06-08 11:43:28,025: INFO: common: yaml file: config/config.yaml loaded successfully]\n",
      "[2025-06-08 11:43:28,026: INFO: common: yaml file: params.yaml loaded successfully]\n",
      "[2025-06-08 11:43:28,027: INFO: common: created directory at: artifacts]\n",
      "[2025-06-08 11:43:28,027: INFO: common: created directory at: artifacts/data_transformation]\n",
      "[2025-06-08 11:43:29,526: INFO: 1176555295: Loading train data from artifacts/data_ingestion/train.json]\n"
     ]
    },
    {
     "name": "stderr",
     "output_type": "stream",
     "text": [
      "Map:  48%|████▊     | 7000/14732 [00:01<00:01, 5539.43 examples/s]"
     ]
    },
    {
     "name": "stdout",
     "output_type": "stream",
     "text": [
      "Invalid input: None | problem with visualization of the content\n"
     ]
    },
    {
     "name": "stderr",
     "output_type": "stream",
     "text": [
      "Map: 100%|██████████| 14732/14732 [00:02<00:00, 5314.24 examples/s]\n",
      "Saving the dataset (1/1 shards): 100%|██████████| 14732/14732 [00:00<00:00, 417074.94 examples/s]"
     ]
    },
    {
     "name": "stdout",
     "output_type": "stream",
     "text": [
      "[2025-06-08 11:43:32,402: INFO: 1176555295: Loading test data from artifacts/data_ingestion/test.json]\n"
     ]
    },
    {
     "name": "stderr",
     "output_type": "stream",
     "text": [
      "\n",
      "Map: 100%|██████████| 819/819 [00:00<00:00, 5425.07 examples/s]\n",
      "Saving the dataset (1/1 shards): 100%|██████████| 819/819 [00:00<00:00, 306489.56 examples/s]"
     ]
    },
    {
     "name": "stdout",
     "output_type": "stream",
     "text": [
      "[2025-06-08 11:43:32,585: INFO: 1176555295: Loading validation data from artifacts/data_ingestion/validation.json]\n"
     ]
    },
    {
     "name": "stderr",
     "output_type": "stream",
     "text": [
      "\n",
      "Map: 100%|██████████| 818/818 [00:00<00:00, 5538.11 examples/s]\n",
      "Saving the dataset (1/1 shards): 100%|██████████| 818/818 [00:00<00:00, 311281.14 examples/s]\n"
     ]
    }
   ],
   "source": [
    "try:\n",
    "    config = ConfigurationManager()\n",
    "    data_transformation_config = config.get_data_transformation_config()\n",
    "    data_transformation = DataTransformation(config=data_transformation_config)\n",
    "    data_transformation.convert()\n",
    "except Exception as e:\n",
    "    raise e"
   ]
  }
 ],
 "metadata": {
  "kernelspec": {
   "display_name": "venv",
   "language": "python",
   "name": "python3"
  },
  "language_info": {
   "codemirror_mode": {
    "name": "ipython",
    "version": 3
   },
   "file_extension": ".py",
   "mimetype": "text/x-python",
   "name": "python",
   "nbconvert_exporter": "python",
   "pygments_lexer": "ipython3",
   "version": "3.9.6"
  }
 },
 "nbformat": 4,
 "nbformat_minor": 2
}
